{
 "cells": [
  {
   "cell_type": "code",
   "execution_count": 7,
   "metadata": {
    "id": "i2J3nuNpJDyn"
   },
   "outputs": [],
   "source": [
    "import pickle\n",
    "import pandas as pd\n",
    "import numpy as np\n",
    "import os\n",
    "\n",
    "class pred_cat():\n",
    "\n",
    "    def __init__(self, path = os.getcwd() + \"/decisiontree.pkl\"):\n",
    "        with open(path, 'rb') as f:\n",
    "            self.model = pickle.load(f)\n",
    "    \n",
    "    def change_type(self, data):\n",
    "        if type(data) is list:\n",
    "            X = pd.DataFrame(data).T\n",
    "        else:\n",
    "            X = data\n",
    "        return X\n",
    "    \n",
    "    def extract_var(self, data):\n",
    "        feat = ['sex', 'age', 'occupation', 'isReject', 'hasOtherComAccount', 'eduLevel','incomeYear', 'totalWealth', 'expInvestment', 'yrsInvestment', 'frqInvestment','srcCapital', 'quotaCredit', 'category_job1111','category_insurance','category_rule_base', 'company_level','credit_info', 'lc_var']        \n",
    "        X = data[feat]\n",
    "        return X\n",
    "\n",
    "    def get_category(self, X):\n",
    "        model = self.model\n",
    "        X = self.change_type(X)\n",
    "        X = self.extract_var(X)\n",
    "\n",
    "        pred_cat = model.predict(X)\n",
    "        res = pred_cat.tolist()\n",
    "        for i in range(len(res)):\n",
    "            if res[i] == 0:\n",
    "                res[i] = '0-10萬'\n",
    "            elif res[i] ==1:\n",
    "                res[i] = '10-30萬'\n",
    "            elif res[i] ==2:\n",
    "                res[i] = '30-50萬'\n",
    "            elif res[i] ==3:\n",
    "                res[i] = '50-100萬'\n",
    "            else:\n",
    "                pass\n",
    "\n",
    "        return res"
   ]
  },
  {
   "cell_type": "code",
   "execution_count": 8,
   "metadata": {
    "id": "eVdonF3ZJsoc"
   },
   "outputs": [],
   "source": [
    "#取資料測試\n",
    "import os\n",
    "path = os.getcwd()+ \"/data_F1.csv\"\n",
    "example = data = pd.read_csv(path)\n",
    "\n",
    "classifier = pred_cat()\n",
    "cat = classifier.get_category(example) #list of 預測額度"
   ]
  },
  {
   "cell_type": "code",
   "execution_count": null,
   "metadata": {},
   "outputs": [],
   "source": []
  }
 ],
 "metadata": {
  "colab": {
   "name": "20220611_金融科技玉山專題_決策樹final.ipynb",
   "provenance": []
  },
  "kernelspec": {
   "display_name": "Python 3",
   "language": "python",
   "name": "python3"
  }
 },
 "nbformat": 4,
 "nbformat_minor": 1
}
